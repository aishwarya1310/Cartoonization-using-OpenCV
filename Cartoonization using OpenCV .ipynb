{
 "cells": [
  {
   "cell_type": "code",
   "execution_count": 1,
   "metadata": {},
   "outputs": [],
   "source": [
    "import cv2"
   ]
  },
  {
   "cell_type": "code",
   "execution_count": 2,
   "metadata": {},
   "outputs": [],
   "source": [
    "import numpy as np"
   ]
  },
  {
   "cell_type": "code",
   "execution_count": 3,
   "metadata": {},
   "outputs": [],
   "source": [
    "number_down = 2 #number of downsampling steps\n",
    "number_bilateral = 7 #number of bilateral filtering steps"
   ]
  },
  {
   "cell_type": "code",
   "execution_count": 4,
   "metadata": {},
   "outputs": [
    {
     "name": "stdout",
     "output_type": "stream",
     "text": [
      "(181, 278, 3)\n"
     ]
    }
   ],
   "source": [
    "image_rgb = cv2.imread(\"image.jpg\")\n",
    "print(image_rgb.shape) #prints the dimension of the picture\n",
    "\n",
    "image_rgb = cv2.resize(image_rgb,(800,900))"
   ]
  },
  {
   "cell_type": "code",
   "execution_count": 5,
   "metadata": {},
   "outputs": [],
   "source": [
    "image_color = image_rgb\n",
    "for _ in range(number_down):\n",
    "    image_color = cv2.pyrDown(image_color)"
   ]
  },
  {
   "cell_type": "code",
   "execution_count": 6,
   "metadata": {},
   "outputs": [],
   "source": [
    "for _ in range(number_bilateral):\n",
    "    image_color = cv2.bilateralFilter(image_color, d = 9, sigmaColor = 9, sigmaSpace = 7)"
   ]
  },
  {
   "cell_type": "code",
   "execution_count": 7,
   "metadata": {},
   "outputs": [],
   "source": [
    "for _ in range(number_down):\n",
    "    image_color = cv2.pyrUp(image_color)\n",
    "    \n",
    "image_gray = cv2.cvtColor(image_rgb, cv2.COLOR_RGB2GRAY)\n",
    "image_blur = cv2.medianBlur(image_gray, 7)\n",
    "\n",
    "image_edge = cv2.adaptiveThreshold(image_blur, 255, cv2.ADAPTIVE_THRESH_MEAN_C, cv2.THRESH_BINARY, blockSize = 9, C = 2)\n",
    "    "
   ]
  },
  {
   "cell_type": "code",
   "execution_count": 8,
   "metadata": {},
   "outputs": [],
   "source": [
    "#convert back\n",
    "image_edge = cv2.cvtColor(image_edge, cv2.COLOR_GRAY2RGB)\n",
    "image_cartoon = cv2.bitwise_and(image_color, image_edge)"
   ]
  },
  {
   "cell_type": "code",
   "execution_count": 9,
   "metadata": {},
   "outputs": [],
   "source": [
    "#display\n",
    "stack = np.hstack([image_rgb,image_cartoon])\n",
    "cv2.imshow('Stacked Images', stack)"
   ]
  },
  {
   "cell_type": "code",
   "execution_count": 10,
   "metadata": {},
   "outputs": [
    {
     "data": {
      "text/plain": [
       "-1"
      ]
     },
     "execution_count": 10,
     "metadata": {},
     "output_type": "execute_result"
    }
   ],
   "source": [
    "cv2.waitKey(0)"
   ]
  },
  {
   "cell_type": "code",
   "execution_count": null,
   "metadata": {},
   "outputs": [],
   "source": []
  }
 ],
 "metadata": {
  "kernelspec": {
   "display_name": "Python 3",
   "language": "python",
   "name": "python3"
  },
  "language_info": {
   "codemirror_mode": {
    "name": "ipython",
    "version": 3
   },
   "file_extension": ".py",
   "mimetype": "text/x-python",
   "name": "python",
   "nbconvert_exporter": "python",
   "pygments_lexer": "ipython3",
   "version": "3.8.3"
  }
 },
 "nbformat": 4,
 "nbformat_minor": 4
}
